{
 "cells": [
  {
   "cell_type": "code",
   "execution_count": 1,
   "id": "1177f508-016f-4dc5-a5d9-26f956715e9b",
   "metadata": {},
   "outputs": [],
   "source": [
    "import json\n",
    "import re\n",
    "import tempfile\n",
    "\n",
    "from PIL import ImageDraw\n",
    "from azure.cognitiveservices.vision.computervision import ComputerVisionClient\n",
    "from azure.cognitiveservices.vision.computervision.models import OperationStatusCodes\n",
    "from azure.cognitiveservices.vision.computervision.models import VisualFeatureTypes\n",
    "from msrest.authentication import CognitiveServicesCredentials\n",
    "from array import array\n",
    "import os\n",
    "from PIL import Image\n",
    "import sys\n",
    "from dotenv import load_dotenv\n",
    "import time\n",
    "import numpy as np\n",
    "import matplotlib.pyplot as plt\n",
    "import cv2"
   ]
  },
  {
   "cell_type": "code",
   "execution_count": 2,
   "id": "fd287ab0-24ff-4f78-a7e2-5ab6726aaf1d",
   "metadata": {},
   "outputs": [],
   "source": [
    "def authenticate():\n",
    "    '''\n",
    "    Authenticate\n",
    "    Authenticates your credentials and creates a client.\n",
    "    '''\n",
    "    load_dotenv()\n",
    "    subscription_key = os.environ[\"VISION_KEY\"]\n",
    "    endpoint = os.environ[\"VISION_ENDPOINT\"]\n",
    "    credentials = CognitiveServicesCredentials(subscription_key)\n",
    "    computervision_client = ComputerVisionClient(endpoint, credentials)\n",
    "    '''\n",
    "    END - Authenticate\n",
    "    '''\n",
    "    return computervision_client"
   ]
  },
  {
   "cell_type": "code",
   "execution_count": 3,
   "id": "7cdeb4b3-35ae-45f0-99bf-9e84cd3f9529",
   "metadata": {},
   "outputs": [],
   "source": [
    "computervision_client = authenticate()"
   ]
  },
  {
   "cell_type": "markdown",
   "id": "83b6444b-3e03-47ec-b220-6c7e9e2322ed",
   "metadata": {},
   "source": [
    "Ocr will return a result for what it analyzed in an image.\n",
    "    The result contains such things as : location and text ."
   ]
  },
  {
   "cell_type": "code",
   "execution_count": 4,
   "id": "23cca555-1cee-4572-9795-dca3d115906c",
   "metadata": {},
   "outputs": [],
   "source": [
    "def get_image_ocr_result(image_path, language=None):\n",
    "    img = open(image_path, \"rb\")\n",
    "    read_response = computervision_client.read_in_stream(\n",
    "        image=img,\n",
    "        mode=\"Printed\",\n",
    "        raw=True,\n",
    "        language=language\n",
    "    )\n",
    "    operation_id = read_response.headers['Operation-Location'].split('/')[-1]\n",
    "    while True:\n",
    "        read_result = computervision_client.get_read_result(operation_id)\n",
    "        if read_result.status not in ['notStarted', 'running']:\n",
    "            break\n",
    "        time.sleep(1)\n",
    "    return read_result"
   ]
  },
  {
   "cell_type": "markdown",
   "id": "d3c6bc05-cb18-49e5-b484-58034eee1431",
   "metadata": {},
   "source": [
    "### Getting text from file with OCR\n",
    "    After getting the OCR result we can extract the text in the image.\n",
    "    "
   ]
  },
  {
   "cell_type": "code",
   "execution_count": 5,
   "id": "6195f778-cba4-4ea9-a2cb-014f37ce5fb4",
   "metadata": {},
   "outputs": [],
   "source": [
    "def get_text_of_file(image_path, language=None):\n",
    "    read_result = get_image_ocr_result(image_path, language)\n",
    "    # Print the detected text, line by line\n",
    "    result = \"\"\n",
    "    if read_result.status == OperationStatusCodes.succeeded:\n",
    "        for text_result in read_result.analyze_result.read_results:\n",
    "            for line in text_result.lines:\n",
    "                result += line.text\n",
    "                result += \" \"\n",
    "    return result\n"
   ]
  },
  {
   "cell_type": "code",
   "execution_count": 6,
   "id": "95daa09a-d894-4384-a6d4-9f21e22e6aa4",
   "metadata": {},
   "outputs": [
    {
     "data": {
      "text/plain": [
       "'Lucces in resolvarea TEMELOR la LABORA toarele de Inteligenta Artificialà! '"
      ]
     },
     "execution_count": 6,
     "metadata": {},
     "output_type": "execute_result"
    }
   ],
   "source": [
    "get_text_of_file('test2.jpeg')"
   ]
  },
  {
   "cell_type": "markdown",
   "id": "0eb243e3-c1dc-48a6-80b0-f6aed1a1b93f",
   "metadata": {},
   "source": [
    "### Getting the location of text in image\n",
    "    After getting the ocr rezult we can get the actual location of text in image."
   ]
  },
  {
   "cell_type": "code",
   "execution_count": 7,
   "id": "8b01da67-ca76-43fa-a704-5041ac47c1aa",
   "metadata": {},
   "outputs": [],
   "source": [
    "def get_location_of_text_file(image_path, language=None):\n",
    "    read_result = get_image_ocr_result(image_path, language)\n",
    "    locations = []\n",
    "    if read_result.status == OperationStatusCodes.succeeded:\n",
    "        for text_result in read_result.analyze_result.read_results:\n",
    "            for line in text_result.lines:\n",
    "                x1,y1,x2,y2,x3,y3,x4,y4=line.bounding_box\n",
    "                locations.append([x1,y1,x3,y3])\n",
    "    return locations\n"
   ]
  },
  {
   "cell_type": "markdown",
   "id": "e470ff5a-269d-4ee8-aa10-9242f2758690",
   "metadata": {},
   "source": [
    "Analizam marja de erorare"
   ]
  },
  {
   "cell_type": "markdown",
   "id": "57b62547-8f0d-4604-ab4e-0321ae5f3f23",
   "metadata": {},
   "source": [
    "Pentru acest lucru am pus intr un fisier json date despre textul nostru"
   ]
  },
  {
   "cell_type": "code",
   "execution_count": 8,
   "id": "0ec5de11-0ecc-4d53-8b3a-e1431bc97e79",
   "metadata": {},
   "outputs": [],
   "source": [
    "with open(\"texts.json\", \"r\") as file:\n",
    "    data = json.load(file)"
   ]
  },
  {
   "cell_type": "markdown",
   "id": "f0de79c2-edce-4ab4-97be-c0eaa5460ab7",
   "metadata": {},
   "source": [
    "## CER - Character Error Rate\n",
    "    calculez numarul de caractere diferite\n",
    "    numar total de caractere gresite/numarul total de caractere in textul real\n",
    "    lung_maxima=max(len(actual_text),len(predicted_text))"
   ]
  },
  {
   "cell_type": "code",
   "execution_count": 9,
   "id": "a322b61d-9982-4f2d-beee-66bf28efc1b2",
   "metadata": {},
   "outputs": [],
   "source": [
    "def cer_character_error_rate(predicted_text, actual_text):\n",
    "    \n",
    "    lung_minima = min(len(actual_text), len(predicted_text))\n",
    "    errors = abs(len(actual_text) - len(predicted_text))  # caractere au ramas necitite sau citite in plus\n",
    "    for i in range(0, lung_minima):\n",
    "        if (predicted_text[i] != actual_text[i]):\n",
    "            errors += 1\n",
    "    cer = errors / len(actual_text)\n",
    "    return cer\n"
   ]
  },
  {
   "cell_type": "markdown",
   "id": "a9835ae5-7a23-40bb-bcfc-28c192a85546",
   "metadata": {},
   "source": [
    "### Aplic cer pe toate imaginiile"
   ]
  },
  {
   "cell_type": "code",
   "execution_count": null,
   "id": "24ba1b9b-927b-4f1a-b008-23a5c4e7098e",
   "metadata": {},
   "outputs": [],
   "source": [
    "def perform_cer_on_all_images():\n",
    "    cers = {}\n",
    "    for file in data:\n",
    "        image_path = file[\"image_path\"]\n",
    "        actual_text = file[\"actual_text\"]\n",
    "        predicted_text = get_text_of_file(image_path)\n",
    "        cer = cer_character_error_rate(predicted_text, actual_text)\n",
    "        cers[image_path] = cer\n",
    "    return cers\n",
    "print(perform_cer_on_all_images())"
   ]
  },
  {
   "cell_type": "code",
   "execution_count": null,
   "id": "4ca0915d-7d6f-4132-95f7-19ebf1e267d4",
   "metadata": {},
   "outputs": [],
   "source": [
    "Preia toate cuvintele dintr un text"
   ]
  },
  {
   "cell_type": "code",
   "execution_count": null,
   "id": "1b413351-b173-4390-b1d2-3e3d82b536d0",
   "metadata": {},
   "outputs": [],
   "source": [
    "def get_all_words(text):\n",
    "    words = re.findall(r'\\w+', text)\n",
    "    return words"
   ]
  },
  {
   "cell_type": "markdown",
   "id": "7d69dada-2108-45a6-bba2-0e8e7d12ba21",
   "metadata": {},
   "source": [
    "## Distanta levensthein\n",
    "Numarul de cuvinte inlocuite,skipped or inserted!\n",
    "=> cu el pot calcula wer\n",
    "tot verific si det min daca nu sunt egale cifra de sus cu cifra din stanga\n",
    "daca nu punctul resp devine min val din jur\n",
    "=> distanta e fix ultima val din matrice"
   ]
  },
  {
   "cell_type": "code",
   "execution_count": null,
   "id": "405cac57-d58a-41a0-850f-dd0ede9a8e8b",
   "metadata": {},
   "outputs": [],
   "source": [
    "def levenshtein_distance(s1, s2):\n",
    "    # initializez matrice pt memorarea dist intermediare\n",
    "    dp = [[0] * (len(s2) + 1) for _ in range(len(s1) + 1)]\n",
    "    # initializez prima linie si prima col cu indicii lor\n",
    "    for i in range(len(s1) + 1):\n",
    "        dp[i][0] = i\n",
    "    for j in range(len(s2) + 1):\n",
    "        dp[0][j] = j\n",
    "    for i in range(1, len(s1) + 1):\n",
    "        for j in range(1, len(s2) + 1):\n",
    "            if (s1[i - 1] == s2[j - 1]):\n",
    "                dp[i][j] = dp[i - 1][j - 1]\n",
    "            else:\n",
    "                # daca caract nu sunt eguale distanta cellcurent e min matricei inconj +1\n",
    "                a = dp[i][j - 1]\n",
    "                b = dp[i - 1][j]\n",
    "                c = dp[i - 1][j - 1]\n",
    "                min_value = min(a, b, c)\n",
    "                dp[i][j] = min_value + 1\n",
    "    return dp[len(s1)][len(s2)]"
   ]
  },
  {
   "cell_type": "markdown",
   "id": "03345029-7241-49b9-9df7-5414fb0d67e0",
   "metadata": {},
   "source": [
    "## Wer- Word Error Rate\n",
    "calculeaza calitatea la nivelul cuvintelor prin intermediul levensthein"
   ]
  },
  {
   "cell_type": "code",
   "execution_count": null,
   "id": "61f69bc4-c2be-4548-a085-8cb6fbf9fb46",
   "metadata": {},
   "outputs": [],
   "source": [
    "def wer_word_error_rate(predicted_text, actual_text):\n",
    "    predicted_words = get_all_words(predicted_text)\n",
    "    actual_words = get_all_words(actual_text)\n",
    "\n",
    "    n = len(predicted_words)\n",
    "    m = len(actual_words)\n",
    "\n",
    "    # dist Levenshtein\n",
    "    dist = levenshtein_distance(predicted_text, actual_text)\n",
    "    wer = dist / m\n",
    "    return wer"
   ]
  },
  {
   "cell_type": "markdown",
   "id": "1442d11b-901c-4bf7-8623-f8030b245db7",
   "metadata": {},
   "source": [
    "Fac pe toate Wer"
   ]
  },
  {
   "cell_type": "code",
   "execution_count": null,
   "id": "660f7f39-b664-4924-b360-555575524343",
   "metadata": {},
   "outputs": [],
   "source": [
    "def perform_wer_on_all_images():\n",
    "    wers = {}\n",
    "    for file in data:\n",
    "        image_path = file[\"image_path\"]\n",
    "        actual_text = file[\"actual_text\"]\n",
    "        predicted_text = get_text_of_file(image_path)\n",
    "        wer = wer_word_error_rate(predicted_text, actual_text)\n",
    "        wers[image_path] = wer\n",
    "    return wers\n",
    "print(perform_wer_on_all_images())"
   ]
  },
  {
   "cell_type": "markdown",
   "id": "93a79a92-83d1-43c9-8df1-4fee36ace7d5",
   "metadata": {},
   "source": [
    "Pe toate levensthein"
   ]
  },
  {
   "cell_type": "code",
   "execution_count": null,
   "id": "9d87e63e-f0cd-4f80-bd4b-2a33812a2664",
   "metadata": {},
   "outputs": [],
   "source": [
    "def perform_levensthin_on_all_images():\n",
    "    levs = {}\n",
    "    for file in data:\n",
    "        image_path = file[\"image_path\"]\n",
    "        actual_text = file[\"actual_text\"]\n",
    "        predicted_text = get_text_of_file(image_path)\n",
    "        lev = levenshtein_distance(predicted_text, actual_text)\n",
    "        levs[image_path] = lev\n",
    "    return levs\n",
    "print(perform_levensthin_on_all_images())"
   ]
  },
  {
   "cell_type": "markdown",
   "id": "bdbda604-38e1-4732-b708-595f7f3e2715",
   "metadata": {},
   "source": [
    "##Distanta Hamming\n",
    "numarul de caractere diferite din cele doua texte (DACA TEXTELE SUNT EGALE)"
   ]
  },
  {
   "cell_type": "code",
   "execution_count": null,
   "id": "19588829-9709-4e00-841f-6f330dfe13c1",
   "metadata": {},
   "outputs": [],
   "source": [
    "def hamming_distance(s1, s2):\n",
    "    if (len(s1) != len(s2)):\n",
    "        raise ValueError(\"Nu au aceeeasi lungime\")\n",
    "    distance = sum(1 for c1, c2 in zip(s1, s2) if c1 != c2)\n",
    "    return distance"
   ]
  },
  {
   "cell_type": "code",
   "execution_count": null,
   "id": "9225495d-b989-4625-9822-be8f4bb6dd43",
   "metadata": {},
   "outputs": [],
   "source": [
    "Hamming pe toate"
   ]
  },
  {
   "cell_type": "code",
   "execution_count": null,
   "id": "a29bc1d0-e2b9-4686-90de-86232f79b604",
   "metadata": {},
   "outputs": [],
   "source": [
    "def perform_hamming_on_all_images():\n",
    "    hams = {}\n",
    "    for file in data:\n",
    "        image_path = file[\"image_path\"]\n",
    "        actual_text = file[\"actual_text\"]\n",
    "        predicted_text = get_text_of_file(image_path)\n",
    "        ham=hamming_distance(predicted_text,actual_text)\n",
    "        hams[image_path]=ham\n",
    "    return hams\n",
    "print(perform_hamming_on_all_images())"
   ]
  },
  {
   "cell_type": "markdown",
   "id": "8fccc2c9-a40b-4bf9-be1a-756db1b58571",
   "metadata": {},
   "source": [
    "Acum distantele"
   ]
  },
  {
   "cell_type": "markdown",
   "id": "5db32e4b-1b67-4244-b109-4b5fc38ccaf0",
   "metadata": {},
   "source": [
    "## LA NIVEL LOCATIE"
   ]
  },
  {
   "cell_type": "code",
   "execution_count": null,
   "id": "e9f4e88f-7515-4ac2-b35a-dcf938760df7",
   "metadata": {},
   "outputs": [],
   "source": [
    "### Desenez sa vad ce identifica OCR"
   ]
  },
  {
   "cell_type": "code",
   "execution_count": null,
   "id": "87389a4c-8669-4518-bbb6-2c66781e1e89",
   "metadata": {},
   "outputs": [],
   "source": []
  },
  {
   "cell_type": "code",
   "execution_count": null,
   "id": "625a8ddc-f39d-4781-b43d-c8f897418b99",
   "metadata": {},
   "outputs": [],
   "source": [
    "def image_with_box_surrounding_text(image_path,language=None):\n",
    "    locations=get_location_of_text_file(image_path,language)\n",
    "    image=Image.open(image_path)\n",
    "    draw=ImageDraw.Draw(image)\n",
    "    for location in locations:\n",
    "        x1,y1,x3,y3=location\n",
    "        draw.rectangle([x1, y1, x3, y3], outline=(255, 0, 0), width=3)\n",
    "    display(image)\n",
    "image_with_box_surrounding_text('test1.png')\n",
    "image_with_box_surrounding_text('test2.jpeg')"
   ]
  },
  {
   "cell_type": "markdown",
   "id": "a5a6a687-c6f4-45a5-8d8b-19e0b2e588eb",
   "metadata": {},
   "source": [
    "## IOU- Intersection Over Union. Pentru a calcula calitatea localizarii\n",
    "Calculeaza overlap ul dintre locatii\n",
    "Asa aflu si eu cat e overlapping ul . cu cat mai mare cu atat mai bine!\n",
    "Am salvat in json si localizarea randuriilor. "
   ]
  },
  {
   "cell_type": "code",
   "execution_count": null,
   "id": "32ad6a67-0a8d-43fa-9c94-d885ca58f3b1",
   "metadata": {},
   "outputs": [],
   "source": [
    "def calculate_iou(box1,box2):\n",
    "    #iou= i/union else 0\n",
    "    #calculam intersectia\n",
    "    x1=max(box1[0],box2[0])\n",
    "    y1=max(box1[1],box2[1])\n",
    "    x2=min(box1[2],box2[2])\n",
    "    y2=min(box1[3],box2[3])\n",
    "    area_of_intersection=max(0,x2-x1)*max(0,y2-y1)\n",
    "    #union=area1+are2-inters\n",
    "    area_box1=(box1[2]-box1[0])*(box1[3]-box1[1])\n",
    "    area_box2=(box2[2]-box2[0])*(box2[3]-box2[1])\n",
    "    union=area_box1+area_box2-area_of_intersection\n",
    "    #calculam iou\n",
    "    if union==0:\n",
    "        return 0\n",
    "    else:\n",
    "        return area_of_intersection/union"
   ]
  },
  {
   "cell_type": "markdown",
   "id": "5c91884f-40e5-4a38-994d-6d4e10999b6a",
   "metadata": {},
   "source": [
    "## Quality localization for one image\n",
    "### Primesc path ul la imagine si locatiile corecte\n",
    "### Returnez IOU pt fiecare rand"
   ]
  },
  {
   "cell_type": "code",
   "execution_count": null,
   "id": "1e62afaf-1121-44c3-9dde-f5a71f216b74",
   "metadata": {},
   "outputs": [],
   "source": [
    "def quality_of_localization_one_image(image_path,actual_location,language=None):\n",
    "\n",
    "    locations_from_ocr=get_location_of_text_file(image_path)\n",
    "    max_found=max(len(actual_location),len(locations_from_ocr))\n",
    "    ious=[]\n",
    "    for i in range(0,max_found):\n",
    "        ious.append(calculate_iou(actual_location[i],locations_from_ocr[i]))\n",
    "    #daca ne au mai ramas linii neregasite de ocr\n",
    "    for i in range(len(locations_from_ocr),len(actual_location)):\n",
    "        ious.append(0)\n",
    "    return ious\n"
   ]
  },
  {
   "cell_type": "markdown",
   "id": "5a759972-4810-49a3-87c1-544f07c834af",
   "metadata": {},
   "source": [
    "## Quality for each file!\n",
    "### O face pe fiecare rand"
   ]
  },
  {
   "cell_type": "code",
   "execution_count": null,
   "id": "adef2cf0-65e2-4cd1-a520-3b7151da7477",
   "metadata": {},
   "outputs": [],
   "source": [
    "def quality_localization_for_files():\n",
    "    qualities={}\n",
    "    for file in data:\n",
    "        image_path=file[\"image_path\"]\n",
    "        actual_locations=file[\"locations\"]\n",
    "        qualities[image_path]=quality_of_localization_one_image(image_path,actual_locations)\n",
    "    return qualities\n",
    "quality_localization_for_files()"
   ]
  },
  {
   "cell_type": "markdown",
   "id": "71fe4b4e-2eb9-4cb1-af09-749ea6068a45",
   "metadata": {},
   "source": [
    "## Average Quality\n",
    "\n",
    "Testez pe fisierele de test calitatea overall de localizare!"
   ]
  },
  {
   "cell_type": "code",
   "execution_count": null,
   "id": "789a2a70-5c6e-429c-a547-ec4ddd962f5e",
   "metadata": {},
   "outputs": [],
   "source": [
    "def quality_mean():\n",
    "    qualities=quality_localization_for_files()\n",
    "    mean_quals:list=[np.mean(quality) for quality in qualities.values()]\n",
    "    return np.mean(mean_quals)\n",
    "print(quality_mean())"
   ]
  },
  {
   "cell_type": "markdown",
   "id": "872a83a3-7399-408d-ad92-8c30b48a149f",
   "metadata": {},
   "source": [
    "## Show one image\n",
    "As dori sa pot vizualiza anumite imagini"
   ]
  },
  {
   "cell_type": "code",
   "execution_count": null,
   "id": "7c8cb950-98c2-40ff-8a70-82709c7d07b2",
   "metadata": {},
   "outputs": [],
   "source": [
    "def show_one_image(image_to_plot,cmap=None):\n",
    "    plt.imshow(image_to_plot,cmap=cmap)\n",
    "    plt.axis('off')\n",
    "    plt.show()"
   ]
  },
  {
   "cell_type": "markdown",
   "id": "75d9e76a-d879-486f-9c9c-a4bd698f12a7",
   "metadata": {},
   "source": [
    "Pentru exemple salvez o imagine pentru a arata ce face fiecare functie"
   ]
  },
  {
   "cell_type": "code",
   "execution_count": null,
   "id": "1643b2bb-bde4-40c9-9f79-7bf9fa42cff0",
   "metadata": {},
   "outputs": [],
   "source": [
    "imagePrev=cv2.imread('test2.jpeg')"
   ]
  },
  {
   "cell_type": "code",
   "execution_count": null,
   "id": "7eae7182-db26-45e0-8380-b03fd401d562",
   "metadata": {},
   "outputs": [],
   "source": [
    "show_one_image(imagePrev)"
   ]
  },
  {
   "cell_type": "markdown",
   "id": "9a8efe93-1a14-4f54-bf00-a15d9ef067f8",
   "metadata": {},
   "source": [
    "## Imbunatatire calitate\n",
    "### Exista mai multe metode de imbunatatire a calitatii. La nivel de cod noi putem preprocesa fiecare imagine\n",
    "Astfel, declar urmatoarele functii pe care le voi folosi pentru a scade WER- ul!"
   ]
  },
  {
   "cell_type": "markdown",
   "id": "3b5e365f-a1a3-4439-90b4-0ee6c60772f2",
   "metadata": {},
   "source": [
    "### Normalizare\n",
    "Normalizez imaginea printr-un min max!"
   ]
  },
  {
   "cell_type": "code",
   "execution_count": null,
   "id": "15a01400-4f76-4cd1-a474-82d0a8b929af",
   "metadata": {},
   "outputs": [],
   "source": [
    "def normalization(image):\n",
    "    image_norm = cv2.cvtColor(image, cv2.COLOR_BGR2GRAY)\n",
    "    image_norm=cv2.normalize(image_norm, None, alpha=0, beta=255, norm_type=cv2.NORM_MINMAX)\n",
    "    return image_norm\n",
    "show_one_image(normalization(imagePrev),cmap='gray')"
   ]
  },
  {
   "cell_type": "markdown",
   "id": "3950605e-de1e-4e54-99ea-7b7ebc04e034",
   "metadata": {},
   "source": [
    "## Image scaling\n",
    "\n",
    "Doing research, am aflat ca OCR performa cel mai bine cu imagini peste 300 PPI, dar nici cu un PPI prea mare. Asa ca transform daca e nevoie imaginea la o imagine cu PPI de 300.\n",
    "PPI- Pixel per Inch!"
   ]
  },
  {
   "cell_type": "code",
   "execution_count": null,
   "id": "2bf107b9-b99c-4629-9b40-caaf8ad1872e",
   "metadata": {},
   "outputs": [],
   "source": [
    "def image_scaling(image):\n",
    "    \"\"\"\n",
    "        Ocr cere pentru o performanta mai buna imagini cu peste 300 PPI. daca e mai mic 300 crestem\n",
    "    :param image:\n",
    "    :return:\n",
    "    \"\"\"\n",
    "    height,width=image.shape[:2]\n",
    "    current_resolution = max(width, height)\n",
    "    factor=300/current_resolution\n",
    "    new_width=int(width*factor)\n",
    "    new_height=int(height*factor)\n",
    "    size=(new_width,new_height)\n",
    "    resized_image = cv2.resize(image, (new_width, new_height))\n",
    "    return resized_image\n",
    "show_one_image(image_scaling(imagePrev))"
   ]
  },
  {
   "cell_type": "markdown",
   "id": "f02e0616-aac6-4b29-824d-a4bfbf11c7cb",
   "metadata": {},
   "source": [
    "## binarization\n",
    "Nu am mai fol ca e asem cu thresholding! Efectiv cam fac aceleasi lucruri! Thresholding pot zice chiar mai bine!"
   ]
  },
  {
   "cell_type": "code",
   "execution_count": null,
   "id": "6825b568-b2a5-4a41-9c6a-643c95338f86",
   "metadata": {
    "scrolled": true
   },
   "outputs": [],
   "source": [
    "def binarization(image):\n",
    "    _, binary_image = cv2.threshold(image, 127, 255, cv2.THRESH_BINARY)\n",
    "    return binary_image\n",
    "show_one_image(binarization(imagePrev))"
   ]
  },
  {
   "cell_type": "markdown",
   "id": "c3e2579b-145b-43ed-9656-918d34e74d44",
   "metadata": {},
   "source": [
    "## Noise Removal\n",
    "\n",
    "Unele imagini pot avea mult noise ceea ce poate compromite evaluarea textului. \n",
    "Blurez inca un pic imaginea si sterg noise ul!\\\n",
    "\n",
    "Dupa acea revin la imaginea neblurata!"
   ]
  },
  {
   "cell_type": "code",
   "execution_count": null,
   "id": "e908a36d-83ad-46b2-934d-dff72d265dd8",
   "metadata": {},
   "outputs": [],
   "source": [
    "def noise_removal(image):\n",
    "    blurred_image = cv2.GaussianBlur(image, (5, 5), 0)\n",
    "\n",
    "    # emove small noise\n",
    "    kernel = cv2.getStructuringElement(cv2.MORPH_RECT, (5, 5))\n",
    "    opened_image = cv2.morphologyEx(blurred_image, cv2.MORPH_OPEN, kernel)\n",
    "    # after it comes thresholding -binarizing\n",
    "    return opened_image\n",
    "show_one_image(noise_removal(imagePrev))"
   ]
  },
  {
   "cell_type": "markdown",
   "id": "87412a60-8048-463c-b8be-46b279f53e92",
   "metadata": {},
   "source": [
    "## Thresholding\n",
    "\n",
    "Thresholding poate ajuta enorm in cresterea performantei. "
   ]
  },
  {
   "cell_type": "code",
   "execution_count": null,
   "id": "14b355c3-3ab0-474a-b09f-a19b588fbb2d",
   "metadata": {},
   "outputs": [],
   "source": [
    "\n",
    "def thresholding(image):\n",
    "    # Check if the image is None\n",
    "    if image is None:\n",
    "        print(\"Error: Input image is None.\")\n",
    "        return None\n",
    "\n",
    "    # Check if the image is already grayscale\n",
    "    if len(image.shape) > 2 and image.shape[2] > 1:\n",
    "        gray = cv2.cvtColor(image, cv2.COLOR_BGR2GRAY)\n",
    "    else:\n",
    "        gray = image\n",
    "\n",
    "    # Apply Otsu's thresholding\n",
    "    _, thresholded_image = cv2.threshold(gray, 0, 255, cv2.THRESH_BINARY + cv2.THRESH_OTSU)\n",
    "    \n",
    "    return thresholded_image\n",
    "\n",
    "show_one_image(thresholding(normalization(imagePrev)))"
   ]
  },
  {
   "cell_type": "markdown",
   "id": "9f447f34-d0b3-4a68-90e9-856a5ada5484",
   "metadata": {},
   "source": [
    "## DESKEW\n",
    "\n",
    "Daca o imagine e rotita de obicei incurca OCR in determinarea textului! Voi incerca sa mai elimin din acest deskewing!"
   ]
  },
  {
   "cell_type": "code",
   "execution_count": null,
   "id": "482298d0-c6e9-495e-8f8a-24baac2e982e",
   "metadata": {},
   "outputs": [],
   "source": [
    "import cv2\n",
    "\n",
    "def deskew(image):\n",
    "    # Check if the image is None\n",
    "    if image is None:\n",
    "        print(\"Error: Input image is None.\")\n",
    "        return None\n",
    "\n",
    "    # Convert the image to grayscale if it has more than one channel\n",
    "    if len(image.shape) > 2:\n",
    "        gray = cv2.cvtColor(image, cv2.COLOR_BGR2GRAY)\n",
    "    else:\n",
    "        gray = image\n",
    "\n",
    "    # Threshold the image to get a binary image\n",
    "    _, binary_image = cv2.threshold(gray, 0, 255, cv2.THRESH_BINARY + cv2.THRESH_OTSU)\n",
    "\n",
    "    # Find contours in the binary image\n",
    "    contours, _ = cv2.findContours(binary_image, cv2.RETR_EXTERNAL, cv2.CHAIN_APPROX_SIMPLE)\n",
    "    \n",
    "    # Check if any contours are found\n",
    "    if not contours:\n",
    "        print(\"No contours found.\")\n",
    "        return image  # Return the original image\n",
    "    \n",
    "    # Find the orientation angle of the rectangle enclosing the contours\n",
    "    rect = cv2.minAreaRect(contours[0])\n",
    "    angle = rect[-1]\n",
    "    \n",
    "    # Adjust the angle if necessary\n",
    "    if angle < -45:\n",
    "        angle = -(90 + angle)\n",
    "    elif angle == 90:\n",
    "        angle = 90\n",
    "    else:\n",
    "        angle = -angle\n",
    "    \n",
    "    # Rotate the image to deskew it\n",
    "    (h, w) = image.shape[:2]\n",
    "    center = (w // 2, h // 2)\n",
    "    M = cv2.getRotationMatrix2D(center, angle, 1.0)\n",
    "    rotated = cv2.warpAffine(image, M, (w, h), flags=cv2.INTER_CUBIC, borderMode=cv2.BORDER_REPLICATE)\n",
    "    \n",
    "    return rotated\n"
   ]
  },
  {
   "cell_type": "markdown",
   "id": "342c3e2c-ee40-4a11-9a71-178a5fbf1737",
   "metadata": {},
   "source": [
    "## CONTRAST ENCHANCING\n",
    "\n",
    "    Pentru imbunatatirea recunoasterii o alta metoda super buna este cresterea contrastului! Textul poate deveni mai ligibil!"
   ]
  },
  {
   "cell_type": "code",
   "execution_count": null,
   "id": "72a46f57-d1c4-4ef5-b419-9e45aee41265",
   "metadata": {},
   "outputs": [],
   "source": [
    "def enhance_contrast(image):\n",
    "    if len(image.shape) == 2 or image.shape[2] == 1:  # Grayscale or single-channel image\n",
    "        # Apply histogram equalization directly\n",
    "        equalized = cv2.equalizeHist(image)\n",
    "        enhanced_image = cv2.cvtColor(equalized, cv2.COLOR_GRAY2BGR)\n",
    "    else:  # Color image\n",
    "        # Separate color channels\n",
    "        b, g, r = cv2.split(image)\n",
    "        # Apply histogram equalization to each channel\n",
    "        b_equalized = cv2.equalizeHist(b)\n",
    "        g_equalized = cv2.equalizeHist(g)\n",
    "        r_equalized = cv2.equalizeHist(r)\n",
    "        # Merge equalized channels\n",
    "        enhanced_image = cv2.merge([b_equalized, g_equalized, r_equalized])\n",
    "    \n",
    "    return enhanced_image\n",
    "show_one_image(enhance_contrast(imagePrev))"
   ]
  },
  {
   "cell_type": "markdown",
   "id": "04f69cdb-ce15-4a11-8040-56c8db57840f",
   "metadata": {},
   "source": [
    "Asta o fac pentru a salva progres!"
   ]
  },
  {
   "cell_type": "code",
   "execution_count": null,
   "id": "f5fc99fa-077a-48de-a726-b01e92fa1541",
   "metadata": {},
   "outputs": [],
   "source": [
    "def rename_file(image_path,toadd):\n",
    "    base_name, extension = os.path.splitext(image_path)\n",
    "    new_name = f\"{base_name}{toadd}{extension}\"\n",
    "    return new_name"
   ]
  },
  {
   "cell_type": "code",
   "execution_count": null,
   "id": "12c9ce66-f50a-4265-a1e9-91e52129c700",
   "metadata": {},
   "outputs": [],
   "source": [
    "def get_actual_text(image_path):\n",
    "    for obj in data:\n",
    "        if obj[\"image_path\"] == image_path:\n",
    "            return obj[\"actual_text\"]\n",
    "    return None"
   ]
  },
  {
   "cell_type": "markdown",
   "id": "2b600b33-b7b0-4609-8608-b36c782c2401",
   "metadata": {},
   "source": [
    "## CUM VAD DACA procesarea curenta este buna\n",
    "\n",
    "Pai prin salvarea versiunii anterioare a imaginii care are cel mai mic wer pot compara cu cea ce a fost din nou prelucrata!\n",
    "RETURNEZ PE ACEA CARE FUNCTIONEAZA CEL MAI BINE"
   ]
  },
  {
   "cell_type": "code",
   "execution_count": null,
   "id": "fba01f3e-6d42-411a-ba7e-7705fcadb04c",
   "metadata": {},
   "outputs": [],
   "source": [
    "def get_better_ver(original_image,first_image,second_image,cv2f_image,cv2s_image):\n",
    "    actual_text=get_actual_text(original_image)\n",
    "    first_text=get_text_of_file(first_image)\n",
    "    second_text=get_text_of_file(second_image)\n",
    "    wer_f=wer_word_error_rate(first_text, actual_text)\n",
    "    wer_s=wer_word_error_rate(second_text, actual_text)\n",
    "    if wer_f> wer_s:\n",
    "        return cv2s_image,second_image\n",
    "    else:\n",
    "        return cv2f_image,first_image\n",
    "    "
   ]
  },
  {
   "cell_type": "code",
   "execution_count": null,
   "id": "49fdf03a-5044-43db-8e4b-ca7167675832",
   "metadata": {},
   "outputs": [],
   "source": [
    "import os\n",
    "\n",
    "def delete_files_with_name(directory, name):\n",
    "    # List all files in the directory\n",
    "    i = 1\n",
    "    for filename in os.listdir(directory):\n",
    "        # Check if the filename contains the specified name\n",
    "        file_name = rename_file(name, \"_proc\" + str(i))\n",
    "        i += 1\n",
    "        if file_name == filename:\n",
    "            os.remove(filename)\n"
   ]
  },
  {
   "cell_type": "markdown",
   "id": "285a0b24-a9a5-4caa-a868-ad00070cffa7",
   "metadata": {},
   "source": [
    "## PRIMA PRE PROCESARE!\n",
    "Incerc prin mai multe etape sa prelucrez imaginea si sa ajung la cel mai bun WER!"
   ]
  },
  {
   "cell_type": "code",
   "execution_count": null,
   "id": "6d745d8c-982c-4937-bfff-2de7b50f7141",
   "metadata": {},
   "outputs": [],
   "source": [
    "def preprocessing(image_path):\n",
    "    image = cv2.imread(image_path)\n",
    "    if image is None:\n",
    "        print(\"Error: Unable to load image.\")\n",
    "        return None\n",
    "\n",
    "    # Normalization\n",
    "    normalized = normalization(image)\n",
    "    new_name1 = rename_file(image_path, '_proc1')\n",
    "    cv2.imwrite(new_name1, normalized)\n",
    "    better1, better_path1 = get_better_ver(image_path, image_path, new_name1, image, normalized)\n",
    "\n",
    "    # Noise Removal\n",
    "    noise_removaled = noise_removal(better1)\n",
    "    new_name2 = rename_file(image_path, '_proc2')\n",
    "    cv2.imwrite(new_name2, noise_removaled)\n",
    "    better2, better_path2 = get_better_ver(image_path, better_path1, new_name2, better1, noise_removaled)\n",
    "\n",
    "    # Contrast Enhancement\n",
    "    enhanced = enhance_contrast(better2)\n",
    "    new_name3 = rename_file(image_path, '_proc3')\n",
    "    cv2.imwrite(new_name3, enhanced)\n",
    "    better3, better_path3 = get_better_ver(image_path, better_path2, new_name3, better2, enhanced)\n",
    "\n",
    "\n",
    "\n",
    "    # Deskewing\n",
    "    deskewed = deskew(better3)\n",
    "    new_name4 = rename_file(image_path, '_proc4')\n",
    "    cv2.imwrite(new_name4, deskewed)\n",
    "    better4, better_path4 = get_better_ver(image_path, better_path3, new_name4, better3, deskewed)\n",
    "\n",
    "    # Scaling\n",
    "    scaled = image_scaling(better4)\n",
    "    new_name5 = rename_file(image_path, '_proc5')\n",
    "    cv2.imwrite(new_name5, scaled)\n",
    "    better5, better_path5 = get_better_ver(image_path, better_path4, new_name5, better4, scaled)\n",
    "\n",
    "    # Thresholding\n",
    "    thresholded = thresholding(better5)\n",
    "    new_name6 = rename_file(image_path, '_proc6')\n",
    "    cv2.imwrite(new_name6, thresholded)\n",
    "    better6, better_path6 = get_better_ver(image_path, better_path5, new_name6, better5, thresholded)\n",
    "    \n",
    "    # Final save\n",
    "    cv2.imwrite(rename_file(image_path, '_final'), better6)\n",
    "    root_directory = os.getcwd()\n",
    "    delete_files_with_name(root_directory,image_path)\n",
    "    \n",
    "    return better6\n",
    "\n",
    "\n",
    "\n"
   ]
  },
  {
   "cell_type": "code",
   "execution_count": null,
   "id": "c9dbc8c1-06ed-45c4-b685-749e1801ae0b",
   "metadata": {},
   "outputs": [],
   "source": [
    "def preprocessing2(image_path):\n",
    "    image = cv2.imread(image_path)\n",
    "    if image is None:\n",
    "        print(\"Error: Unable to load image.\")\n",
    "        return None\n",
    "\n",
    "    # Normalization\n",
    "    normalized = normalization(image)\n",
    "    new_name1 = rename_file(image_path, '_proc1')\n",
    "    cv2.imwrite(new_name1, normalized)\n",
    "    better1, better_path1 = get_better_ver(image_path, image_path, new_name1, image, normalized)\n",
    "   \n",
    "    # Deskewing\n",
    "    deskewed = deskew(better1)\n",
    "    new_name2 = rename_file(image_path, '_proc2')\n",
    "    cv2.imwrite(new_name2, deskewed)\n",
    "    better2, better_path2 = get_better_ver(image_path, better_path1, new_name2, better1, deskewed)\n",
    "   # Scaling\n",
    "    scaled = image_scaling(better2)\n",
    "    new_name3 = rename_file(image_path, '_proc3')\n",
    "    cv2.imwrite(new_name3, scaled)\n",
    "    better3, better_path3 = get_better_ver(image_path, better_path2, new_name3, better2, scaled)\n",
    "\n",
    "    # Noise Removal\n",
    "    noise_removaled = noise_removal(better3)\n",
    "    new_name4 = rename_file(image_path, '_proc4')\n",
    "    cv2.imwrite(new_name4, noise_removaled)\n",
    "    better4, better_path4 = get_better_ver(image_path, better_path3, new_name4, better3, noise_removaled)\n",
    "\n",
    "    # Contrast Enhancement\n",
    "    enhanced = enhance_contrast(better4)\n",
    "    new_name5 = rename_file(image_path, '_proc5')\n",
    "    cv2.imwrite(new_name5, enhanced)\n",
    "    better5, better_path5 = get_better_ver(image_path, better_path4, new_name5, better4, enhanced)\n",
    "\n",
    "\n",
    "    # Thresholding\n",
    "    thresholded = thresholding(better5)\n",
    "    new_name6 = rename_file(image_path, '_proc6')\n",
    "    cv2.imwrite(new_name6, thresholded)\n",
    "    better6, better_path6 = get_better_ver(image_path, better_path5, new_name6, better5, thresholded)\n",
    "    \n",
    "    # Final save\n",
    "    cv2.imwrite(rename_file(image_path, '_final'), better6)\n",
    "    root_directory = os.getcwd()\n",
    "    delete_files_with_name(root_directory,image_path)\n",
    "    \n",
    "    return better6\n",
    "\n",
    "\n",
    "\n",
    "\n",
    "    "
   ]
  },
  {
   "cell_type": "code",
   "execution_count": null,
   "id": "dbf2aa45-4267-4295-a4ec-244e697cbc3b",
   "metadata": {},
   "outputs": [],
   "source": [
    "preprocessed_image = preprocessing('test2.jpeg')\n",
    "show_one_image(preprocessed_image)"
   ]
  },
  {
   "cell_type": "code",
   "execution_count": null,
   "id": "c9b79a48-6ec7-46a3-93f2-679f69706c9a",
   "metadata": {},
   "outputs": [],
   "source": [
    "preprocessed_image = preprocessing2('test2.jpeg')\n",
    "show_one_image(preprocessed_image)"
   ]
  },
  {
   "cell_type": "code",
   "execution_count": null,
   "id": "78b02342-36c8-45ae-a5fe-cc53302e80a5",
   "metadata": {},
   "outputs": [],
   "source": [
    "preprocessed_image = preprocessing2('test1.png')\n",
    "show_one_image(preprocessed_image)"
   ]
  },
  {
   "cell_type": "code",
   "execution_count": null,
   "id": "fdf2810d-a586-41d7-9946-8be1cfbdf420",
   "metadata": {},
   "outputs": [],
   "source": [
    "preprocessed_image = preprocessing('test1.png')\n",
    "show_one_image(preprocessed_image)"
   ]
  },
  {
   "cell_type": "code",
   "execution_count": null,
   "id": "12e889e8-e731-403e-9851-6efe988ae0d5",
   "metadata": {},
   "outputs": [],
   "source": [
    "print(get_text_of_file('test1_final.png'))"
   ]
  },
  {
   "cell_type": "code",
   "execution_count": null,
   "id": "e036ac4c-eeb3-4af6-bc84-936ee45dd86e",
   "metadata": {},
   "outputs": [],
   "source": [
    "print(get_text_of_file('test2_final.jpeg'))"
   ]
  },
  {
   "cell_type": "code",
   "execution_count": null,
   "id": "a057d720-b456-4905-aa40-2d6d8bdbf3db",
   "metadata": {},
   "outputs": [],
   "source": []
  },
  {
   "cell_type": "code",
   "execution_count": null,
   "id": "5b774340-7511-4f74-9a63-9158287831f6",
   "metadata": {},
   "outputs": [],
   "source": []
  }
 ],
 "metadata": {
  "kernelspec": {
   "display_name": "Python 3 (ipykernel)",
   "language": "python",
   "name": "python3"
  },
  "language_info": {
   "codemirror_mode": {
    "name": "ipython",
    "version": 3
   },
   "file_extension": ".py",
   "mimetype": "text/x-python",
   "name": "python",
   "nbconvert_exporter": "python",
   "pygments_lexer": "ipython3",
   "version": "3.11.6"
  }
 },
 "nbformat": 4,
 "nbformat_minor": 5
}
